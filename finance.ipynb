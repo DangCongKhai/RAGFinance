{
 "cells": [
  {
   "cell_type": "markdown",
   "id": "aae6af21",
   "metadata": {},
   "source": [
    "# Outline for things to do\n",
    "\n",
    "## 1. Loading documents for each dataset into Pinecone\n",
    "- Use dataset name as metadata -> Add 1 column besides the query so that we can search by metadata -> Faster and more accurate\n",
    "\n",
    "## 2. Create a dataframe of query:\n",
    "- Columns: query_id, query, dataset_name\n",
    "\n",
    "## 3. Things to test:\n",
    "\n",
    "### 3.1 Simple RAG submission:\n",
    "- Use raw vectore store to retrieve the top-10 most relevant documents to the query\n",
    "\n",
    "### 3.2 Vector Search + RAG Fusion\n",
    "\n",
    "### 3.3 Hybrid search + Reranking\n",
    "\n"
   ]
  },
  {
   "cell_type": "code",
   "execution_count": 1,
   "id": "4755ef7d",
   "metadata": {},
   "outputs": [],
   "source": [
    "import os\n",
    "import numpy as np\n",
    "import pandas as pd\n",
    "from dotenv import load_dotenv\n",
    "from langchain_core.documents import Document\n",
    "from langchain_google_genai import GoogleGenerativeAIEmbeddings\n",
    "from financerag.task import *\n",
    "from financerag.retrieval import DenseRetrieval"
   ]
  },
  {
   "cell_type": "code",
   "execution_count": 2,
   "id": "0cc59b3f",
   "metadata": {},
   "outputs": [],
   "source": [
    "load_dotenv(\".env\")\n",
    "GG_API_KEY = os.environ.get('GOOGLE_API_KEY')\n",
    "PINECONE_API_KEY = os.environ.get('PINECONE_API_KEY')\n",
    "LANGSMITH_API_KEY = os.environ.get('LANGSMITH_API_KEY')"
   ]
  },
  {
   "cell_type": "code",
   "execution_count": 11,
   "id": "a26d4caf",
   "metadata": {},
   "outputs": [],
   "source": [
    "# Set up vector database\n",
    "import faiss\n",
    "from langchain_community.docstore.in_memory import InMemoryDocstore\n",
    "from langchain_community.vectorstores import FAISS\n",
    "embeddings = GoogleGenerativeAIEmbeddings(model = \"models/text-embedding-004\")\n",
    "index = faiss.IndexFlatL2(len(embeddings.embed_query(\"hello world\")))\n",
    "\n",
    "vector_store = FAISS(\n",
    "    embedding_function=embeddings,\n",
    "    index=index,\n",
    "    docstore=InMemoryDocstore(),\n",
    "    index_to_docstore_id={},\n",
    ")"
   ]
  },
  {
   "cell_type": "code",
   "execution_count": 5,
   "id": "8d6fffa6",
   "metadata": {},
   "outputs": [
    {
     "data": {
      "text/plain": [
       "['MultiHeirtt',\n",
       " 'FinQA',\n",
       " 'FinanceBench',\n",
       " 'ConvFinQA',\n",
       " 'FinQABench',\n",
       " 'TATQA',\n",
       " 'FinDER']"
      ]
     },
     "execution_count": 5,
     "metadata": {},
     "output_type": "execute_result"
    }
   ],
   "source": [
    "# Get dataset name first\n",
    "import os\n",
    "dataset_names = []\n",
    "for f in os.listdir('finance_dataset'):\n",
    "    if f.endswith(\"tsv\"):\n",
    "       dataset_names.append(f.split('_')[0])\n",
    "dataset_names  "
   ]
  },
  {
   "cell_type": "code",
   "execution_count": 6,
   "id": "556e5ea3",
   "metadata": {},
   "outputs": [
    {
     "name": "stdout",
     "output_type": "stream",
     "text": [
      "\n",
      "    # MultiHeirtt Task\n",
      "    multiheirtt_task = MultiHeirttTask()\n",
      "    multiheirtt_task.load()\n",
      "    multiheirtt_task_retriever = DenseRetrieval(vector_store = vector_store, dataset_name = multiheirtt_task.metadata.dataset_name)\n",
      "    multiheirtt_task_retriever.load_corpus_for_searching(multiheirtt_task.corpus, saved_index = True)\n",
      "    multiheirtt_task.retrieve(retriever = multiheirtt_task_retriever)\n",
      "    multiheirtt_task.save_retrieved_results()\n",
      "    \n",
      "\n",
      "    # FinQA Task\n",
      "    finqa_task = FinQATask()\n",
      "    finqa_task.load()\n",
      "    finqa_task_retriever = DenseRetrieval(vector_store = vector_store, dataset_name = finqa_task.metadata.dataset_name)\n",
      "    finqa_task_retriever.load_corpus_for_searching(finqa_task.corpus, saved_index = True)\n",
      "    finqa_task.retrieve(retriever = finqa_task_retriever)\n",
      "    finqa_task.save_retrieved_results()\n",
      "    \n",
      "\n",
      "    # FinanceBench Task\n",
      "    financebench_task = FinanceBenchTask()\n",
      "    financebench_task.load()\n",
      "    financebench_task_retriever = DenseRetrieval(vector_store = vector_store, dataset_name = financebench_task.metadata.dataset_name)\n",
      "    financebench_task_retriever.load_corpus_for_searching(financebench_task.corpus, saved_index = True)\n",
      "    financebench_task.retrieve(retriever = financebench_task_retriever)\n",
      "    financebench_task.save_retrieved_results()\n",
      "    \n",
      "\n",
      "    # ConvFinQA Task\n",
      "    convfinqa_task = ConvFinQATask()\n",
      "    convfinqa_task.load()\n",
      "    convfinqa_task_retriever = DenseRetrieval(vector_store = vector_store, dataset_name = convfinqa_task.metadata.dataset_name)\n",
      "    convfinqa_task_retriever.load_corpus_for_searching(convfinqa_task.corpus, saved_index = True)\n",
      "    convfinqa_task.retrieve(retriever = convfinqa_task_retriever)\n",
      "    convfinqa_task.save_retrieved_results()\n",
      "    \n",
      "\n",
      "    # FinQABench Task\n",
      "    finqabench_task = FinQABenchTask()\n",
      "    finqabench_task.load()\n",
      "    finqabench_task_retriever = DenseRetrieval(vector_store = vector_store, dataset_name = finqabench_task.metadata.dataset_name)\n",
      "    finqabench_task_retriever.load_corpus_for_searching(finqabench_task.corpus, saved_index = True)\n",
      "    finqabench_task.retrieve(retriever = finqabench_task_retriever)\n",
      "    finqabench_task.save_retrieved_results()\n",
      "    \n",
      "\n",
      "    # TATQA Task\n",
      "    tatqa_task = TATQATask()\n",
      "    tatqa_task.load()\n",
      "    tatqa_task_retriever = DenseRetrieval(vector_store = vector_store, dataset_name = tatqa_task.metadata.dataset_name)\n",
      "    tatqa_task_retriever.load_corpus_for_searching(tatqa_task.corpus, saved_index = True)\n",
      "    tatqa_task.retrieve(retriever = tatqa_task_retriever)\n",
      "    tatqa_task.save_retrieved_results()\n",
      "    \n",
      "\n",
      "    # FinDER Task\n",
      "    finder_task = FinDERTask()\n",
      "    finder_task.load()\n",
      "    finder_task_retriever = DenseRetrieval(vector_store = vector_store, dataset_name = finder_task.metadata.dataset_name)\n",
      "    finder_task_retriever.load_corpus_for_searching(finder_task.corpus, saved_index = True)\n",
      "    finder_task.retrieve(retriever = finder_task_retriever)\n",
      "    finder_task.save_retrieved_results()\n",
      "    \n"
     ]
    }
   ],
   "source": [
    "for dataset_name in dataset_names:\n",
    "    task_variable = f\"{dataset_name.lower()}_task\"\n",
    "    script_string = f\"\"\"\n",
    "    # {dataset_name} Task\n",
    "    {task_variable} = {dataset_name}Task()\n",
    "    {task_variable}.load()\n",
    "    {task_variable}_retriever = DenseRetrieval(vector_store = vector_store, dataset_name = {task_variable}.metadata.dataset_name)\n",
    "    {task_variable}_retriever.load_corpus_for_searching({task_variable}.corpus, saved_index = True)\n",
    "    {task_variable}.retrieve(retriever = {task_variable}_retriever)\n",
    "    {task_variable}.save_retrieved_results()\n",
    "    \"\"\"\n",
    "    print(script_string)"
   ]
  },
  {
   "cell_type": "code",
   "execution_count": 9,
   "id": "4f2943f8",
   "metadata": {},
   "outputs": [
    {
     "name": "stderr",
     "output_type": "stream",
     "text": [
      "Loading document:: 100%|██████████| 10475/10475 [00:00<00:00, 42579.02it/s]\n"
     ]
    },
    {
     "name": "stdout",
     "output_type": "stream",
     "text": [
      "Successfully saved index of vector store to path : faiss_index/multiheirtt_index\n",
      "Saved result successfully to ./financerag_result/multiheirtt_result.csv!\n"
     ]
    }
   ],
   "source": [
    "# MultiHeirtt Task\n",
    "multiheirtt_task = MultiHeirttTask()\n",
    "multiheirtt_task.load()\n",
    "multiheirtt_task_retriever = DenseRetrieval(vector_store = vector_store, dataset_name = multiheirtt_task.metadata.dataset_name)\n",
    "multiheirtt_task_retriever.load_corpus_for_searching(multiheirtt_task.corpus, saved_index = True)\n",
    "multiheirtt_task.retrieve(retriever = multiheirtt_task_retriever)\n",
    "multiheirtt_task.save_retrieved_results()\n"
   ]
  },
  {
   "cell_type": "code",
   "execution_count": 12,
   "id": "137deb89",
   "metadata": {},
   "outputs": [
    {
     "name": "stderr",
     "output_type": "stream",
     "text": [
      "Loading document: 100%|██████████| 2789/2789 [00:00<00:00, 151775.10it/s]\n"
     ]
    },
    {
     "name": "stdout",
     "output_type": "stream",
     "text": [
      "Successfully saved index of vector store to path : faiss_index/finqa_index\n"
     ]
    },
    {
     "name": "stderr",
     "output_type": "stream",
     "text": [
      "Retrieving result:: 100%|██████████| 1147/1147 [07:21<00:00,  2.60it/s]"
     ]
    },
    {
     "name": "stdout",
     "output_type": "stream",
     "text": [
      "Saved result successfully to ./financerag_result/finqa_result.csv!\n"
     ]
    },
    {
     "name": "stderr",
     "output_type": "stream",
     "text": [
      "\n"
     ]
    }
   ],
   "source": [
    "# FinQA Task\n",
    "finqa_task = FinQATask()\n",
    "finqa_task.load()\n",
    "finqa_task_retriever = DenseRetrieval(vector_store = vector_store, dataset_name = finqa_task.metadata.dataset_name)\n",
    "finqa_task_retriever.load_corpus_for_searching(finqa_task.corpus, saved_index = True)\n",
    "finqa_task.retrieve(retriever = finqa_task_retriever)\n",
    "finqa_task.save_retrieved_results()\n"
   ]
  },
  {
   "cell_type": "code",
   "execution_count": 13,
   "id": "d04bf885",
   "metadata": {},
   "outputs": [
    {
     "name": "stderr",
     "output_type": "stream",
     "text": [
      "Loading document: 100%|██████████| 180/180 [00:00<00:00, 131942.45it/s]\n"
     ]
    },
    {
     "name": "stdout",
     "output_type": "stream",
     "text": [
      "Successfully saved index of vector store to path : faiss_index/financebench_index\n"
     ]
    },
    {
     "name": "stderr",
     "output_type": "stream",
     "text": [
      "Retrieving result:: 100%|██████████| 150/150 [01:02<00:00,  2.42it/s]"
     ]
    },
    {
     "name": "stdout",
     "output_type": "stream",
     "text": [
      "Saved result successfully to ./financerag_result/financebench_result.csv!\n"
     ]
    },
    {
     "name": "stderr",
     "output_type": "stream",
     "text": [
      "\n"
     ]
    }
   ],
   "source": [
    "\n",
    "# FinanceBench Task\n",
    "financebench_task = FinanceBenchTask()\n",
    "financebench_task.load()\n",
    "financebench_task_retriever = DenseRetrieval(vector_store = vector_store, dataset_name = financebench_task.metadata.dataset_name)\n",
    "financebench_task_retriever.load_corpus_for_searching(financebench_task.corpus, saved_index = True)\n",
    "financebench_task.retrieve(retriever = financebench_task_retriever)\n",
    "financebench_task.save_retrieved_results()\n",
    "\n",
    "\n"
   ]
  },
  {
   "cell_type": "code",
   "execution_count": 14,
   "id": "907078e1",
   "metadata": {},
   "outputs": [
    {
     "name": "stderr",
     "output_type": "stream",
     "text": [
      "Loading document: 100%|██████████| 2066/2066 [00:00<00:00, 129481.68it/s]\n"
     ]
    },
    {
     "name": "stdout",
     "output_type": "stream",
     "text": [
      "Successfully saved index of vector store to path : faiss_index/convfinqa_index\n"
     ]
    },
    {
     "name": "stderr",
     "output_type": "stream",
     "text": [
      "Retrieving result:: 100%|██████████| 421/421 [02:37<00:00,  2.67it/s]"
     ]
    },
    {
     "name": "stdout",
     "output_type": "stream",
     "text": [
      "Saved result successfully to ./financerag_result/convfinqa_result.csv!\n"
     ]
    },
    {
     "name": "stderr",
     "output_type": "stream",
     "text": [
      "\n"
     ]
    }
   ],
   "source": [
    "# ConvFinQA Task\n",
    "convfinqa_task = ConvFinQATask()\n",
    "convfinqa_task.load()\n",
    "convfinqa_task_retriever = DenseRetrieval(vector_store = vector_store, dataset_name = convfinqa_task.metadata.dataset_name)\n",
    "convfinqa_task_retriever.load_corpus_for_searching(convfinqa_task.corpus, saved_index = True)\n",
    "convfinqa_task.retrieve(retriever = convfinqa_task_retriever)\n",
    "convfinqa_task.save_retrieved_results()\n"
   ]
  },
  {
   "cell_type": "code",
   "execution_count": 15,
   "id": "6e07be39",
   "metadata": {},
   "outputs": [
    {
     "name": "stderr",
     "output_type": "stream",
     "text": [
      "Loading document: 100%|██████████| 92/92 [00:00<00:00, 89592.75it/s]\n"
     ]
    },
    {
     "name": "stdout",
     "output_type": "stream",
     "text": [
      "Successfully saved index of vector store to path : faiss_index/finqabench_index\n"
     ]
    },
    {
     "name": "stderr",
     "output_type": "stream",
     "text": [
      "Retrieving result:: 100%|██████████| 100/100 [00:36<00:00,  2.75it/s]"
     ]
    },
    {
     "name": "stdout",
     "output_type": "stream",
     "text": [
      "Saved result successfully to ./financerag_result/finqabench_result.csv!\n"
     ]
    },
    {
     "name": "stderr",
     "output_type": "stream",
     "text": [
      "\n"
     ]
    }
   ],
   "source": [
    "\n",
    "# FinQABench Task\n",
    "finqabench_task = FinQABenchTask()\n",
    "finqabench_task.load()\n",
    "finqabench_task_retriever = DenseRetrieval(vector_store = vector_store, dataset_name = finqabench_task.metadata.dataset_name)\n",
    "finqabench_task_retriever.load_corpus_for_searching(finqabench_task.corpus, saved_index = True)\n",
    "finqabench_task.retrieve(retriever = finqabench_task_retriever)\n",
    "finqabench_task.save_retrieved_results()\n"
   ]
  },
  {
   "cell_type": "code",
   "execution_count": 16,
   "id": "2466fa44",
   "metadata": {},
   "outputs": [
    {
     "name": "stderr",
     "output_type": "stream",
     "text": [
      "Loading document: 100%|██████████| 2756/2756 [00:00<00:00, 182551.12it/s]\n"
     ]
    },
    {
     "name": "stdout",
     "output_type": "stream",
     "text": [
      "Successfully saved index of vector store to path : faiss_index/tatqa_index\n"
     ]
    },
    {
     "name": "stderr",
     "output_type": "stream",
     "text": [
      "Retrieving result:: 100%|██████████| 1663/1663 [15:14<00:00,  1.82it/s] "
     ]
    },
    {
     "name": "stdout",
     "output_type": "stream",
     "text": [
      "Saved result successfully to ./financerag_result/tatqa_result.csv!\n"
     ]
    },
    {
     "name": "stderr",
     "output_type": "stream",
     "text": [
      "\n"
     ]
    }
   ],
   "source": [
    "\n",
    "# TATQA Task\n",
    "tatqa_task = TATQATask()\n",
    "tatqa_task.load()\n",
    "tatqa_task_retriever = DenseRetrieval(vector_store = vector_store, dataset_name = tatqa_task.metadata.dataset_name)\n",
    "tatqa_task_retriever.load_corpus_for_searching(tatqa_task.corpus, saved_index = True)\n",
    "tatqa_task.retrieve(retriever = tatqa_task_retriever)\n",
    "tatqa_task.save_retrieved_results() \n"
   ]
  },
  {
   "cell_type": "code",
   "execution_count": 17,
   "id": "a115525a",
   "metadata": {},
   "outputs": [
    {
     "name": "stderr",
     "output_type": "stream",
     "text": [
      "Loading document: 100%|██████████| 13862/13862 [00:00<00:00, 20056.98it/s]\n"
     ]
    },
    {
     "name": "stdout",
     "output_type": "stream",
     "text": [
      "Successfully saved index of vector store to path : faiss_index/finder_index\n"
     ]
    },
    {
     "name": "stderr",
     "output_type": "stream",
     "text": [
      "Retrieving result:: 100%|██████████| 216/216 [01:57<00:00,  1.84it/s]"
     ]
    },
    {
     "name": "stdout",
     "output_type": "stream",
     "text": [
      "Saved result successfully to ./financerag_result/finder_result.csv!\n"
     ]
    },
    {
     "name": "stderr",
     "output_type": "stream",
     "text": [
      "\n"
     ]
    }
   ],
   "source": [
    "\n",
    "# FinDER Task\n",
    "finder_task = FinDERTask()\n",
    "finder_task.load()\n",
    "finder_task_retriever = DenseRetrieval(vector_store = vector_store, dataset_name = finder_task.metadata.dataset_name)\n",
    "finder_task_retriever.load_corpus_for_searching(finder_task.corpus, saved_index = True)\n",
    "finder_task.retrieve(retriever = finder_task_retriever)\n",
    "finder_task.save_retrieved_results()"
   ]
  },
  {
   "cell_type": "code",
   "execution_count": null,
   "id": "f00e95e9",
   "metadata": {},
   "outputs": [],
   "source": [
    "1: Recusplitter(chunk_size = 1000, overlap_size = 20)\n",
    "2 :SemanticSplitter()Hello how are you\n",
    "\n",
    "1: hello,how , are you\n",
    "2. hello | how are you"
   ]
  },
  {
   "cell_type": "code",
   "execution_count": 19,
   "id": "8bdded8a",
   "metadata": {},
   "outputs": [
    {
     "data": {
      "text/html": [
       "<div>\n",
       "<style scoped>\n",
       "    .dataframe tbody tr th:only-of-type {\n",
       "        vertical-align: middle;\n",
       "    }\n",
       "\n",
       "    .dataframe tbody tr th {\n",
       "        vertical-align: top;\n",
       "    }\n",
       "\n",
       "    .dataframe thead th {\n",
       "        text-align: right;\n",
       "    }\n",
       "</style>\n",
       "<table border=\"1\" class=\"dataframe\">\n",
       "  <thead>\n",
       "    <tr style=\"text-align: right;\">\n",
       "      <th></th>\n",
       "      <th>query_id</th>\n",
       "      <th>corpus_id</th>\n",
       "    </tr>\n",
       "  </thead>\n",
       "  <tbody>\n",
       "    <tr>\n",
       "      <th>0</th>\n",
       "      <td>q82d4c6ec</td>\n",
       "      <td>d8e404704</td>\n",
       "    </tr>\n",
       "    <tr>\n",
       "      <th>1</th>\n",
       "      <td>q82d4c6ec</td>\n",
       "      <td>d87914156</td>\n",
       "    </tr>\n",
       "    <tr>\n",
       "      <th>2</th>\n",
       "      <td>q82d4c6ec</td>\n",
       "      <td>d8a3219a8</td>\n",
       "    </tr>\n",
       "    <tr>\n",
       "      <th>3</th>\n",
       "      <td>q82d4c6ec</td>\n",
       "      <td>d8c22a07a</td>\n",
       "    </tr>\n",
       "    <tr>\n",
       "      <th>4</th>\n",
       "      <td>q82d4c6ec</td>\n",
       "      <td>d88e1c5b2</td>\n",
       "    </tr>\n",
       "    <tr>\n",
       "      <th>...</th>\n",
       "      <td>...</td>\n",
       "      <td>...</td>\n",
       "    </tr>\n",
       "    <tr>\n",
       "      <th>2139</th>\n",
       "      <td>q00218</td>\n",
       "      <td>GOOGL20231203</td>\n",
       "    </tr>\n",
       "    <tr>\n",
       "      <th>2140</th>\n",
       "      <td>q00218</td>\n",
       "      <td>JPM20234729</td>\n",
       "    </tr>\n",
       "    <tr>\n",
       "      <th>2141</th>\n",
       "      <td>q00218</td>\n",
       "      <td>V20231584</td>\n",
       "    </tr>\n",
       "    <tr>\n",
       "      <th>2142</th>\n",
       "      <td>q00218</td>\n",
       "      <td>JPM20237319</td>\n",
       "    </tr>\n",
       "    <tr>\n",
       "      <th>2143</th>\n",
       "      <td>q00218</td>\n",
       "      <td>V20231597</td>\n",
       "    </tr>\n",
       "  </tbody>\n",
       "</table>\n",
       "<p>44543 rows × 2 columns</p>\n",
       "</div>"
      ],
      "text/plain": [
       "       query_id      corpus_id\n",
       "0     q82d4c6ec      d8e404704\n",
       "1     q82d4c6ec      d87914156\n",
       "2     q82d4c6ec      d8a3219a8\n",
       "3     q82d4c6ec      d8c22a07a\n",
       "4     q82d4c6ec      d88e1c5b2\n",
       "...         ...            ...\n",
       "2139     q00218  GOOGL20231203\n",
       "2140     q00218    JPM20234729\n",
       "2141     q00218      V20231584\n",
       "2142     q00218    JPM20237319\n",
       "2143     q00218      V20231597\n",
       "\n",
       "[44543 rows x 2 columns]"
      ]
     },
     "execution_count": 19,
     "metadata": {},
     "output_type": "execute_result"
    }
   ],
   "source": [
    "final_result = pd.DataFrame(columns = ['query_id', 'corpus_id'])\n",
    "\n",
    "for dataset_name in dataset_names:\n",
    "    df = pd.read_csv(f\"financerag_result/{dataset_name.lower()}_result.csv\")\n",
    "    final_result = pd.concat([final_result, df], axis = 0)\n",
    "\n",
    "final_result"
   ]
  },
  {
   "cell_type": "code",
   "execution_count": 20,
   "id": "b8d89714",
   "metadata": {},
   "outputs": [
    {
     "data": {
      "text/html": [
       "<div>\n",
       "<style scoped>\n",
       "    .dataframe tbody tr th:only-of-type {\n",
       "        vertical-align: middle;\n",
       "    }\n",
       "\n",
       "    .dataframe tbody tr th {\n",
       "        vertical-align: top;\n",
       "    }\n",
       "\n",
       "    .dataframe thead th {\n",
       "        text-align: right;\n",
       "    }\n",
       "</style>\n",
       "<table border=\"1\" class=\"dataframe\">\n",
       "  <thead>\n",
       "    <tr style=\"text-align: right;\">\n",
       "      <th></th>\n",
       "      <th>query_id</th>\n",
       "      <th>corpus_id</th>\n",
       "    </tr>\n",
       "  </thead>\n",
       "  <tbody>\n",
       "    <tr>\n",
       "      <th>0</th>\n",
       "      <td>qd496c6a0</td>\n",
       "      <td>dd4b92b32</td>\n",
       "    </tr>\n",
       "    <tr>\n",
       "      <th>1</th>\n",
       "      <td>qd496c6a0</td>\n",
       "      <td>dd4ba2a5a</td>\n",
       "    </tr>\n",
       "    <tr>\n",
       "      <th>2</th>\n",
       "      <td>qd496c6a0</td>\n",
       "      <td>dd4be1f98</td>\n",
       "    </tr>\n",
       "    <tr>\n",
       "      <th>3</th>\n",
       "      <td>qd496c6a0</td>\n",
       "      <td>dd4ba07d2</td>\n",
       "    </tr>\n",
       "    <tr>\n",
       "      <th>4</th>\n",
       "      <td>qd496c6a0</td>\n",
       "      <td>dd4ba02f0</td>\n",
       "    </tr>\n",
       "    <tr>\n",
       "      <th>...</th>\n",
       "      <td>...</td>\n",
       "      <td>...</td>\n",
       "    </tr>\n",
       "    <tr>\n",
       "      <th>46681</th>\n",
       "      <td>q1a741e68</td>\n",
       "      <td>d1b3afaba</td>\n",
       "    </tr>\n",
       "    <tr>\n",
       "      <th>46682</th>\n",
       "      <td>q1a741e68</td>\n",
       "      <td>d1b34e18e</td>\n",
       "    </tr>\n",
       "    <tr>\n",
       "      <th>46683</th>\n",
       "      <td>q1a741e68</td>\n",
       "      <td>d1b36065e</td>\n",
       "    </tr>\n",
       "    <tr>\n",
       "      <th>46684</th>\n",
       "      <td>q1a741e68</td>\n",
       "      <td>d1b33d05a</td>\n",
       "    </tr>\n",
       "    <tr>\n",
       "      <th>46685</th>\n",
       "      <td>q1a741e68</td>\n",
       "      <td>d1b32d114</td>\n",
       "    </tr>\n",
       "  </tbody>\n",
       "</table>\n",
       "<p>46686 rows × 2 columns</p>\n",
       "</div>"
      ],
      "text/plain": [
       "        query_id  corpus_id\n",
       "0      qd496c6a0  dd4b92b32\n",
       "1      qd496c6a0  dd4ba2a5a\n",
       "2      qd496c6a0  dd4be1f98\n",
       "3      qd496c6a0  dd4ba07d2\n",
       "4      qd496c6a0  dd4ba02f0\n",
       "...          ...        ...\n",
       "46681  q1a741e68  d1b3afaba\n",
       "46682  q1a741e68  d1b34e18e\n",
       "46683  q1a741e68  d1b36065e\n",
       "46684  q1a741e68  d1b33d05a\n",
       "46685  q1a741e68  d1b32d114\n",
       "\n",
       "[46686 rows x 2 columns]"
      ]
     },
     "execution_count": 20,
     "metadata": {},
     "output_type": "execute_result"
    }
   ],
   "source": [
    "pd.read_csv('finance_dataset/sample_submission_.csv')"
   ]
  },
  {
   "cell_type": "code",
   "execution_count": 21,
   "id": "8f967ea1",
   "metadata": {},
   "outputs": [],
   "source": [
    "final_result.to_csv('submission.csv', index = False)"
   ]
  },
  {
   "cell_type": "code",
   "execution_count": 22,
   "id": "5f37c716",
   "metadata": {},
   "outputs": [
    {
     "data": {
      "text/html": [
       "<div>\n",
       "<style scoped>\n",
       "    .dataframe tbody tr th:only-of-type {\n",
       "        vertical-align: middle;\n",
       "    }\n",
       "\n",
       "    .dataframe tbody tr th {\n",
       "        vertical-align: top;\n",
       "    }\n",
       "\n",
       "    .dataframe thead th {\n",
       "        text-align: right;\n",
       "    }\n",
       "</style>\n",
       "<table border=\"1\" class=\"dataframe\">\n",
       "  <thead>\n",
       "    <tr style=\"text-align: right;\">\n",
       "      <th></th>\n",
       "      <th>query_id</th>\n",
       "      <th>corpus_id</th>\n",
       "    </tr>\n",
       "  </thead>\n",
       "  <tbody>\n",
       "    <tr>\n",
       "      <th>0</th>\n",
       "      <td>q82d4c6ec</td>\n",
       "      <td>d8e404704</td>\n",
       "    </tr>\n",
       "    <tr>\n",
       "      <th>10</th>\n",
       "      <td>q855a35a0</td>\n",
       "      <td>d89a6ea36</td>\n",
       "    </tr>\n",
       "    <tr>\n",
       "      <th>20</th>\n",
       "      <td>q85384530</td>\n",
       "      <td>d8ce7fc30</td>\n",
       "    </tr>\n",
       "    <tr>\n",
       "      <th>30</th>\n",
       "      <td>q842c8af2</td>\n",
       "      <td>d88465f0a</td>\n",
       "    </tr>\n",
       "    <tr>\n",
       "      <th>40</th>\n",
       "      <td>q85451756</td>\n",
       "      <td>d8646ec7e</td>\n",
       "    </tr>\n",
       "    <tr>\n",
       "      <th>...</th>\n",
       "      <td>...</td>\n",
       "      <td>...</td>\n",
       "    </tr>\n",
       "    <tr>\n",
       "      <th>2094</th>\n",
       "      <td>q00214</td>\n",
       "      <td>BRK.A20230009</td>\n",
       "    </tr>\n",
       "    <tr>\n",
       "      <th>2104</th>\n",
       "      <td>q00215</td>\n",
       "      <td>BRK.A20230404</td>\n",
       "    </tr>\n",
       "    <tr>\n",
       "      <th>2114</th>\n",
       "      <td>q00216</td>\n",
       "      <td>BRK.A20232401</td>\n",
       "    </tr>\n",
       "    <tr>\n",
       "      <th>2124</th>\n",
       "      <td>q00217</td>\n",
       "      <td>BRK.A20230062</td>\n",
       "    </tr>\n",
       "    <tr>\n",
       "      <th>2134</th>\n",
       "      <td>q00218</td>\n",
       "      <td>BRK.A20230594</td>\n",
       "    </tr>\n",
       "  </tbody>\n",
       "</table>\n",
       "<p>4659 rows × 2 columns</p>\n",
       "</div>"
      ],
      "text/plain": [
       "       query_id      corpus_id\n",
       "0     q82d4c6ec      d8e404704\n",
       "10    q855a35a0      d89a6ea36\n",
       "20    q85384530      d8ce7fc30\n",
       "30    q842c8af2      d88465f0a\n",
       "40    q85451756      d8646ec7e\n",
       "...         ...            ...\n",
       "2094     q00214  BRK.A20230009\n",
       "2104     q00215  BRK.A20230404\n",
       "2114     q00216  BRK.A20232401\n",
       "2124     q00217  BRK.A20230062\n",
       "2134     q00218  BRK.A20230594\n",
       "\n",
       "[4659 rows x 2 columns]"
      ]
     },
     "execution_count": 22,
     "metadata": {},
     "output_type": "execute_result"
    }
   ],
   "source": [
    "final_result.drop_duplicates(subset = ['query_id'])"
   ]
  },
  {
   "cell_type": "code",
   "execution_count": 28,
   "id": "76a40b9e",
   "metadata": {},
   "outputs": [
    {
     "data": {
      "text/html": [
       "<div>\n",
       "<style scoped>\n",
       "    .dataframe tbody tr th:only-of-type {\n",
       "        vertical-align: middle;\n",
       "    }\n",
       "\n",
       "    .dataframe tbody tr th {\n",
       "        vertical-align: top;\n",
       "    }\n",
       "\n",
       "    .dataframe thead th {\n",
       "        text-align: right;\n",
       "    }\n",
       "</style>\n",
       "<table border=\"1\" class=\"dataframe\">\n",
       "  <thead>\n",
       "    <tr style=\"text-align: right;\">\n",
       "      <th></th>\n",
       "      <th>_id</th>\n",
       "      <th>title</th>\n",
       "      <th>text</th>\n",
       "    </tr>\n",
       "  </thead>\n",
       "  <tbody>\n",
       "    <tr>\n",
       "      <th>0</th>\n",
       "      <td>q82d4c6ec</td>\n",
       "      <td></td>\n",
       "      <td>What was the sum of Fourth Quarter without tho...</td>\n",
       "    </tr>\n",
       "    <tr>\n",
       "      <th>1</th>\n",
       "      <td>q855a35a0</td>\n",
       "      <td></td>\n",
       "      <td>In which section is Interest income smaller th...</td>\n",
       "    </tr>\n",
       "    <tr>\n",
       "      <th>2</th>\n",
       "      <td>q85384530</td>\n",
       "      <td></td>\n",
       "      <td>If Total Forward Hedged Revenues develops with...</td>\n",
       "    </tr>\n",
       "    <tr>\n",
       "      <th>3</th>\n",
       "      <td>q842c8af2</td>\n",
       "      <td></td>\n",
       "      <td>what was the ratio of the purchase in december...</td>\n",
       "    </tr>\n",
       "    <tr>\n",
       "      <th>4</th>\n",
       "      <td>q85451756</td>\n",
       "      <td></td>\n",
       "      <td>what is the highest total amount of segment in...</td>\n",
       "    </tr>\n",
       "    <tr>\n",
       "      <th>...</th>\n",
       "      <td>...</td>\n",
       "      <td>...</td>\n",
       "      <td>...</td>\n",
       "    </tr>\n",
       "    <tr>\n",
       "      <th>211</th>\n",
       "      <td>q00214</td>\n",
       "      <td></td>\n",
       "      <td>How many distinct insurance underwriting group...</td>\n",
       "    </tr>\n",
       "    <tr>\n",
       "      <th>212</th>\n",
       "      <td>q00215</td>\n",
       "      <td></td>\n",
       "      <td>What is the ticker symbol for Berkshire Hathaw...</td>\n",
       "    </tr>\n",
       "    <tr>\n",
       "      <th>213</th>\n",
       "      <td>q00216</td>\n",
       "      <td></td>\n",
       "      <td>What is the largest operating segment of the B...</td>\n",
       "    </tr>\n",
       "    <tr>\n",
       "      <th>214</th>\n",
       "      <td>q00217</td>\n",
       "      <td></td>\n",
       "      <td>Source of invested assets of insurance busines...</td>\n",
       "    </tr>\n",
       "    <tr>\n",
       "      <th>215</th>\n",
       "      <td>q00218</td>\n",
       "      <td></td>\n",
       "      <td>Float as of 2023 BRK</td>\n",
       "    </tr>\n",
       "  </tbody>\n",
       "</table>\n",
       "<p>4671 rows × 3 columns</p>\n",
       "</div>"
      ],
      "text/plain": [
       "           _id title                                               text\n",
       "0    q82d4c6ec        What was the sum of Fourth Quarter without tho...\n",
       "1    q855a35a0        In which section is Interest income smaller th...\n",
       "2    q85384530        If Total Forward Hedged Revenues develops with...\n",
       "3    q842c8af2        what was the ratio of the purchase in december...\n",
       "4    q85451756        what is the highest total amount of segment in...\n",
       "..         ...   ...                                                ...\n",
       "211     q00214        How many distinct insurance underwriting group...\n",
       "212     q00215        What is the ticker symbol for Berkshire Hathaw...\n",
       "213     q00216        What is the largest operating segment of the B...\n",
       "214     q00217        Source of invested assets of insurance busines...\n",
       "215     q00218                                     Float as of 2023 BRK\n",
       "\n",
       "[4671 rows x 3 columns]"
      ]
     },
     "execution_count": 28,
     "metadata": {},
     "output_type": "execute_result"
    }
   ],
   "source": [
    "final_queries = pd.DataFrame(columns = ['_id', 'title', 'text'])\n",
    "\n",
    "for dataset_name in dataset_names:\n",
    "    df = pd.read_json(f\"finance_dataset/{dataset_name.lower()}_queries.jsonl/queries.jsonl\", lines = True)\n",
    "    final_queries = pd.concat([final_queries, df], axis = 0)\n",
    "\n",
    "final_queries"
   ]
  },
  {
   "cell_type": "code",
   "execution_count": null,
   "id": "4b89b2ee",
   "metadata": {},
   "outputs": [],
   "source": []
  }
 ],
 "metadata": {
  "kernelspec": {
   "display_name": ".venv",
   "language": "python",
   "name": "python3"
  },
  "language_info": {
   "codemirror_mode": {
    "name": "ipython",
    "version": 3
   },
   "file_extension": ".py",
   "mimetype": "text/x-python",
   "name": "python",
   "nbconvert_exporter": "python",
   "pygments_lexer": "ipython3",
   "version": "3.9.17"
  }
 },
 "nbformat": 4,
 "nbformat_minor": 5
}
